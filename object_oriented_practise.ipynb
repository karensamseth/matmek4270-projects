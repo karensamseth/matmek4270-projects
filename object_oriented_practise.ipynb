{
 "cells": [
  {
   "cell_type": "code",
   "execution_count": 1,
   "id": "89a4bc17",
   "metadata": {},
   "outputs": [],
   "source": [
    "import numpy as np"
   ]
  },
  {
   "cell_type": "code",
   "execution_count": 2,
   "id": "e954b4be",
   "metadata": {},
   "outputs": [],
   "source": [
    "#add a class Cube, that inherits from Figure, \n",
    "# modify figure list in such a way, that every 3r element is a cube\n",
    "# create a new list of circumferences of all your figures\n",
    "# add a new method get_side() where is the most efficent way to put this method?\n",
    "# add another set_side() to change side_lenght to all of your objects in the list,\n",
    "# call set_side to set side equal to 1 for all objects, then agian, create a list of circumferences and areas \n",
    "# in case of cube use sum of lenght of edges as circumference "
   ]
  },
  {
   "cell_type": "code",
   "execution_count": 3,
   "id": "73eb41cb",
   "metadata": {},
   "outputs": [],
   "source": [
    "class Figure():\n",
    "    def __init__(self, side_length):\n",
    "        self.side_length = side_length\n",
    "    def get_area(self):\n",
    "        return 0\n",
    "    def get_circumference(self):\n",
    "        return 0\n",
    "    def get_type(self):\n",
    "        return \"\""
   ]
  },
  {
   "cell_type": "code",
   "execution_count": 4,
   "id": "f91c4421",
   "metadata": {},
   "outputs": [],
   "source": [
    "class Square(Figure):       \n",
    "    def get_area(self):\n",
    "        return self.side_length**2\n",
    "    \n",
    "    def get_circumference(self):\n",
    "        return self.side_length*4\n",
    "    \n",
    "    def get_type(self):\n",
    "        return \"square\""
   ]
  },
  {
   "cell_type": "code",
   "execution_count": 5,
   "id": "a1f9559a",
   "metadata": {},
   "outputs": [],
   "source": [
    "class EquilateralTriangle(Figure):\n",
    "        \n",
    "    def get_area(self):\n",
    "        return (self.side_length**2 * np.sqrt(3))/4\n",
    "    \n",
    "    def get_circumference(self):\n",
    "        return self.side_length*3\n",
    "    \n",
    "    def get_type(self):\n",
    "        return \"equilateral triangle\""
   ]
  },
  {
   "cell_type": "code",
   "execution_count": 6,
   "id": "9dc9c66f",
   "metadata": {},
   "outputs": [
    {
     "data": {
      "text/plain": [
       "__main__.Square"
      ]
     },
     "execution_count": 6,
     "metadata": {},
     "output_type": "execute_result"
    }
   ],
   "source": [
    "test_square = Square(1)\n",
    "type(test_square)"
   ]
  },
  {
   "cell_type": "code",
   "execution_count": 7,
   "id": "e6181cd9",
   "metadata": {},
   "outputs": [
    {
     "data": {
      "text/plain": [
       "['__class__',\n",
       " '__delattr__',\n",
       " '__dict__',\n",
       " '__dir__',\n",
       " '__doc__',\n",
       " '__eq__',\n",
       " '__format__',\n",
       " '__ge__',\n",
       " '__getattribute__',\n",
       " '__gt__',\n",
       " '__hash__',\n",
       " '__init__',\n",
       " '__init_subclass__',\n",
       " '__le__',\n",
       " '__lt__',\n",
       " '__module__',\n",
       " '__ne__',\n",
       " '__new__',\n",
       " '__reduce__',\n",
       " '__reduce_ex__',\n",
       " '__repr__',\n",
       " '__setattr__',\n",
       " '__sizeof__',\n",
       " '__str__',\n",
       " '__subclasshook__',\n",
       " '__weakref__',\n",
       " 'get_area',\n",
       " 'get_circumference',\n",
       " 'get_type',\n",
       " 'side_length']"
      ]
     },
     "execution_count": 7,
     "metadata": {},
     "output_type": "execute_result"
    }
   ],
   "source": [
    "dir(test_square)"
   ]
  },
  {
   "cell_type": "code",
   "execution_count": 8,
   "id": "080526a1",
   "metadata": {},
   "outputs": [],
   "source": [
    "#I create an emtpy list of size 6 \n",
    "figure_list = [None]*6\n",
    "\n",
    "# i create a list of 6 elements \n",
    "for i in range(0,6):\n",
    "    if i%2 == 0:\n",
    "        figure_list[i] = Square(i+1)\n",
    "    else:\n",
    "        figure_list[i] = EquilateralTriangle(i+1)"
   ]
  },
  {
   "cell_type": "code",
   "execution_count": 9,
   "id": "04ee9df0",
   "metadata": {},
   "outputs": [
    {
     "name": "stdout",
     "output_type": "stream",
     "text": [
      "The area of square square is 1\n",
      "The area of equilateral triangle square is 1.7320508075688772\n",
      "The area of square square is 9\n",
      "The area of equilateral triangle square is 6.928203230275509\n",
      "The area of square square is 25\n",
      "The area of equilateral triangle square is 15.588457268119894\n"
     ]
    }
   ],
   "source": [
    "# a simple loop calls get_type() method  and get_area on any object of type figure\n",
    "for i in range(0,6):\n",
    "    area = figure_list[i].get_area()\n",
    "    type_of_figure = figure_list[i].get_type()\n",
    "    print(f\"The area of {type_of_figure} square is {area}\")"
   ]
  },
  {
   "cell_type": "code",
   "execution_count": 10,
   "id": "cd1067e5",
   "metadata": {},
   "outputs": [],
   "source": [
    "#this is advanced - its called comprehension list\n",
    "# here you can call function on every  element of the list  \n",
    "area_list = [figure.get_area() for figure in figure_list]"
   ]
  },
  {
   "cell_type": "code",
   "execution_count": 11,
   "id": "1d6afc6b",
   "metadata": {},
   "outputs": [
    {
     "data": {
      "text/plain": [
       "['square',\n",
       " 'equilateral triangle',\n",
       " 'square',\n",
       " 'equilateral triangle',\n",
       " 'square',\n",
       " 'equilateral triangle']"
      ]
     },
     "execution_count": 11,
     "metadata": {},
     "output_type": "execute_result"
    }
   ],
   "source": [
    "figure_type = [figure.get_type() for figure in figure_list]\n",
    "figure_type"
   ]
  },
  {
   "cell_type": "code",
   "execution_count": 18,
   "id": "20b886e4",
   "metadata": {},
   "outputs": [
    {
     "data": {
      "text/plain": [
       "[0.25, 0.28867513459481287, 0.75, 0.5773502691896257, 1.25, 0.8660254037844386]"
      ]
     },
     "execution_count": 18,
     "metadata": {},
     "output_type": "execute_result"
    }
   ],
   "source": [
    "#Lambda is in a way anonymous/short function\n",
    "# I notiched Mikael Mortensen often uses them, not sure if you know them\n",
    "compute_ratio = lambda figure: figure.get_area() / figure.get_circumference()\n",
    "ratios = [compute_ratio(figure) for figure in figure_list]\n",
    "ratios"
   ]
  },
  {
   "cell_type": "code",
   "execution_count": 19,
   "id": "9d115be9",
   "metadata": {},
   "outputs": [
    {
     "data": {
      "text/plain": [
       "[0.25, 0.28867513459481287, 0.75, 0.5773502691896257, 1.25, 0.8660254037844386]"
      ]
     },
     "execution_count": 19,
     "metadata": {},
     "output_type": "execute_result"
    }
   ],
   "source": [
    "# same way to achieve it\n",
    "ratios = [figure.get_area() / figure.get_circumference() for figure in figure_list]\n",
    "ratios"
   ]
  }
 ],
 "metadata": {
  "kernelspec": {
   "display_name": "Python 3 (ipykernel)",
   "language": "python",
   "name": "python3"
  },
  "language_info": {
   "codemirror_mode": {
    "name": "ipython",
    "version": 3
   },
   "file_extension": ".py",
   "mimetype": "text/x-python",
   "name": "python",
   "nbconvert_exporter": "python",
   "pygments_lexer": "ipython3",
   "version": "3.10.12"
  }
 },
 "nbformat": 4,
 "nbformat_minor": 5
}
