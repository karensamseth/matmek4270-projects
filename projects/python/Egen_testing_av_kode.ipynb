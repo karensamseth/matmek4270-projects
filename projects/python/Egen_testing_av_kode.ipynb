{
 "cells": [
  {
   "cell_type": "code",
   "execution_count": 3,
   "id": "dc8bfba2",
   "metadata": {},
   "outputs": [
    {
     "ename": "ModuleNotFoundError",
     "evalue": "No module named 'numpy'",
     "output_type": "error",
     "traceback": [
      "\u001b[0;31m---------------------------------------------------------------------------\u001b[0m",
      "\u001b[0;31mModuleNotFoundError\u001b[0m                       Traceback (most recent call last)",
      "Cell \u001b[0;32mIn [3], line 1\u001b[0m\n\u001b[0;32m----> 1\u001b[0m \u001b[38;5;28;01mimport\u001b[39;00m \u001b[38;5;21;01mnumpy\u001b[39;00m \u001b[38;5;28;01mas\u001b[39;00m \u001b[38;5;21;01mnp\u001b[39;00m\n\u001b[1;32m      4\u001b[0m \u001b[38;5;28;01mdef\u001b[39;00m \u001b[38;5;21mmesh_function\u001b[39m(f, t):\n\u001b[1;32m      5\u001b[0m     dt \u001b[38;5;241m=\u001b[39m \u001b[38;5;241m0.1\u001b[39m\n",
      "\u001b[0;31mModuleNotFoundError\u001b[0m: No module named 'numpy'"
     ]
    }
   ],
   "source": [
    "import numpy as np\n",
    "\n",
    "\n",
    "def mesh_function(f, t):\n",
    "    dt = 0.1\n",
    "    Nt = int(t(-1)/dt)\n",
    "    T = Nt*dt\n",
    "    u = np.zeros(Nt+1)\n",
    "    t_i = t(0)\n",
    "    for i in range(Nt+1):\n",
    "        u[i] = f(t_i)\n",
    "        t_i = t_i + dt\n",
    "    return u\n",
    "\n",
    "def func(t):\n",
    "    f_mesh = np.zeros(len(t))\n",
    "    for i in range(len(t)+1):\n",
    "        if t[i]<=0 & t[i]>=3:\n",
    "            f_mesh[i] = e**(-t[i])\n",
    "        elif t[i]<=3 & t[i]>=4:\n",
    "            f_mesh[i] = e**(-3*t[i])\n",
    "    return f_mesh\n",
    "\n",
    "t = np.linspace(0,4)\n",
    "print(func(t))\n",
    "print(mesh_function(func(t),t))"
   ]
  },
  {
   "cell_type": "code",
   "execution_count": null,
   "id": "6c64ccc1",
   "metadata": {},
   "outputs": [],
   "source": []
  }
 ],
 "metadata": {
  "kernelspec": {
   "display_name": "Python 3 (ipykernel)",
   "language": "python",
   "name": "python3"
  },
  "language_info": {
   "codemirror_mode": {
    "name": "ipython",
    "version": 3
   },
   "file_extension": ".py",
   "mimetype": "text/x-python",
   "name": "python",
   "nbconvert_exporter": "python",
   "pygments_lexer": "ipython3",
   "version": "3.10.4"
  }
 },
 "nbformat": 4,
 "nbformat_minor": 5
}
