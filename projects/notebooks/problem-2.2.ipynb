{
 "cells": [
  {
   "cell_type": "markdown",
   "id": "737c7d1c-c87b-45d7-9dad-953bf859e561",
   "metadata": {
    "jp-MarkdownHeadingCollapsed": true
   },
   "source": [
    "\n",
    "## Problem 2.2 - Explore the $\\theta$-rule for exponential growth\n",
    "\n",
    "This exercise asks you to solve the ODE $u'=-au$ with $a < 0$ such that\n",
    "the ODE models exponential growth instead of exponential decay.  A\n",
    "central theme is to investigate numerical artifacts and non-physical\n",
    "solution behavior.\n",
    "\n",
    "1) Set $a=-1$ and run experiments with $\\theta=0, 0.5, 1$ for various values of $\\Delta t$ to uncover numerical artifacts. Recall that the exact solution is a monotone, growing function when $a < 0$. Oscillations or significantly wrong growth are signs of wrong qualitative behavior.\n",
    "\n",
    "From the experiments, select four values of $\\Delta t$ that\n",
    "demonstrate the kind of numerical solutions that are characteristic\n",
    "for this model.\n",
    "\n",
    "2) Write up the amplification factor and plot it for $\\theta=0,0.5,1$ together with the exact one for $a\\Delta t < 0$. Use the plot to explain the observations made in the experiments.\n",
    "\n",
    "Hint: [decay_ampf_plot.py](https://github.com/hplgit/decay-book/blob/master/src/analysis/decay_ampf_plot.py)"
   ]
  },
  {
   "cell_type": "code",
   "execution_count": 2,
   "id": "582f9b24",
   "metadata": {},
   "outputs": [],
   "source": [
    "import numpy as np\n",
    "\n",
    "def solver(I,a,T,dt,theta):\n",
    "    \"\"\"Solve u'=-au, a<0, u(0)=I, for t in (0,T] with steps of dt.\"\"\"\n",
    "    Nt = int(T/dt)             # nr of time intervals\n",
    "    T = Nt*dt                  # adjust T to fit time step dt\n",
    "    u = np.zeros(Nt+1)         # array of u[n] values\n",
    "    t = np.linspace(0,T,Nt+1)  # time mesh\n",
    "    \n",
    "    u[0] = I                   # assign initial condition\n",
    "    for n in range(0,Nt):      # n=0,1,...,Nt-1\n",
    "        u[n+1] = (1-(1-theta)*a*dt)/(1+theta*dt*a)*u[n] #general formula for calculating u[n+1]\n",
    "    return u, t"
   ]
  },
  {
   "cell_type": "code",
   "execution_count": 74,
   "id": "16f4a89a",
   "metadata": {},
   "outputs": [],
   "source": [
    "u,t = solver(I=1,a=-1,T=8,dt=0.9,theta=1)"
   ]
  },
  {
   "cell_type": "code",
   "execution_count": 75,
   "id": "de93da53",
   "metadata": {},
   "outputs": [],
   "source": [
    "import matplotlib.pyplot as plt\n",
    "plt.plot(t,u)\n",
    "plt.show()"
   ]
  },
  {
   "cell_type": "markdown",
   "id": "f2231a51",
   "metadata": {},
   "source": [
    "1) \n",
    "Tester for I=1,a=-1,T=8. Tester for dt mellom 0.3 og 4.\n",
    "\n",
    "For theta=0 først, dvs Forward Euler. Ser at det uansett går oppover (men for dt=3 får man bare 3 punkter, som er litt lite for en god tilnærming).\n",
    "\n",
    "Tester så for theta=0.5, dvs Crank-Nicolson. Der kan man ikke bruke dt=2, fordi dette gir 0 i utregningen av u[n+1] når man har a=-1. For verdier av dt under 2 går grafen oppover, men for verdier over 2, vil grafen oscillere/ikke kun gå oppover.\n",
    "\n",
    "Tester for theta=1, dvs Backward Euler. Der er det ikke mulig med dt=1. For dt>1 oscillerer løsningen. For dt<1 går grafen oppover, men har litt få punkter for 0.9."
   ]
  },
  {
   "cell_type": "markdown",
   "id": "61ef014c",
   "metadata": {},
   "source": [
    "Fire verdier av $\\Delta t$ som viser ulike spesialiteter for modellen: dt = 0.5, 1/2, 2.5, 3. 0.5 går fint, 1 eller 2 bryter sammen avhengig av theta, 2.5 er enten feil eller går hakkete, avhengig av theta, 3 er for få punkter på grafen eller er ikke monotont voksende."
   ]
  },
  {
   "cell_type": "markdown",
   "id": "6a40ce83",
   "metadata": {},
   "source": [
    "2)"
   ]
  },
  {
   "cell_type": "code",
   "execution_count": 14,
   "id": "02ec7b22",
   "metadata": {},
   "outputs": [],
   "source": [
    "\"\"\"Plotting the amplification factor against the exact one for theta=0,0.5,1.\"\"\"\n",
    "import matplotlib.pyplot as plt\n",
    "import numpy as np\n",
    "\n",
    "a = -1                  #decaying\n",
    "dt = np.linspace(0,5) #checking for different dt\n",
    "p = a*dt                #dimensionless parameter\n",
    "thetas = [0,0.5,1]      #checking for FE, CN and BE\n",
    "colour = ['k','g','y']  #svart FE, grønn CN, gul BE\n",
    "for i in range(3):\n",
    "    A = (1-(1-thetas[i])*p)/(1+thetas[i]*p) #amplfication factor\n",
    "    plt.plot(p,A,colour[i])   #plotting amplification factor against the dimensionless parameter dep. on dt\n",
    "Ae = np.exp(-p)         #exact amplification factor\n",
    "plt.plot(p,Ae,'b')      #plotting exact \n",
    "plt.show()"
   ]
  },
  {
   "cell_type": "markdown",
   "id": "9edc19a1",
   "metadata": {},
   "source": [
    "Ser at den svarte grafen, der $\\theta=0$, dvs FE, alltid er synkende og positiv.\n",
    "\n",
    "Den grønne grafen, der $\\theta=0.5$, dvs. CN, er negativ fram til $p=-2$, og siden jeg har satt $a=-1$, så vil det si for $\\Delta t=2$. Der gjør A et hopp og blir positiv og synkende. Ved dt=2 var det vi over kunne se ingen løsning av likningen.\n",
    "\n",
    "Den gule grafen, der $\\theta=1$, dvs. BE, er negativ og synkede fram til $p=-1$, og igjen tilsvarer dette da $\\Delta t=1$. Der gjør A et hopp, slik som over, men ikke like stort hopp. Det var også der vi kunne finne ingen løsning over.\n",
    "\n",
    "Både FE og BE nærmer seg ikke eksakt løsning før ved ca dt=1.5, mens CN krever ca dt=0.7."
   ]
  },
  {
   "cell_type": "code",
   "execution_count": null,
   "id": "888852df",
   "metadata": {},
   "outputs": [],
   "source": []
  }
 ],
 "metadata": {
  "kernelspec": {
   "display_name": "Python 3 (ipykernel)",
   "language": "python",
   "name": "python3"
  },
  "language_info": {
   "codemirror_mode": {
    "name": "ipython",
    "version": 3
   },
   "file_extension": ".py",
   "mimetype": "text/x-python",
   "name": "python",
   "nbconvert_exporter": "python",
   "pygments_lexer": "ipython3",
   "version": "3.10.4"
  }
 },
 "nbformat": 4,
 "nbformat_minor": 5
}
