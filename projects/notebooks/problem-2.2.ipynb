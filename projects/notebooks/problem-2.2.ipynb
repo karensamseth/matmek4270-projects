{
 "cells": [
  {
   "cell_type": "markdown",
   "id": "737c7d1c-c87b-45d7-9dad-953bf859e561",
   "metadata": {
    "jp-MarkdownHeadingCollapsed": true
   },
   "source": [
    "\n",
    "## Problem 2.2 - Explore the $\\theta$-rule for exponential growth\n",
    "\n",
    "This exercise asks you to solve the ODE $u'=-au$ with $a < 0$ such that\n",
    "the ODE models exponential growth instead of exponential decay.  A\n",
    "central theme is to investigate numerical artifacts and non-physical\n",
    "solution behavior.\n",
    "\n",
    "1) Set $a=-1$ and run experiments with $\\theta=0, 0.5, 1$ for various values of $\\Delta t$ to uncover numerical artifacts. Recall that the exact solution is a monotone, growing function when $a < 0$. Oscillations or significantly wrong growth are signs of wrong qualitative behavior.\n",
    "\n",
    "From the experiments, select four values of $\\Delta t$ that\n",
    "demonstrate the kind of numerical solutions that are characteristic\n",
    "for this model.\n",
    "\n",
    "2) Write up the amplification factor and plot it for $\\theta=0,0.5,1$ together with the exact one for $a\\Delta t < 0$. Use the plot to explain the observations made in the experiments.\n",
    "\n",
    "Hint: [decay_ampf_plot.py](https://github.com/hplgit/decay-book/blob/master/src/analysis/decay_ampf_plot.py)"
   ]
  },
  {
   "cell_type": "code",
   "execution_count": 2,
   "id": "582f9b24",
   "metadata": {},
   "outputs": [],
   "source": [
    "import numpy as np\n",
    "\n",
    "def solver(I,a,T,dt,theta):\n",
    "    \"\"\"Solve u'=-au, a<0, u(0)=I, for t in (0,T] with steps of dt.\"\"\"\n",
    "    Nt = int(T/dt)             # nr of time intervals\n",
    "    T = Nt*dt                  # adjust T to fit time step dt\n",
    "    u = np.zeros(Nt+1)         # array of u[n] values\n",
    "    t = np.linspace(0,T,Nt+1)  # time mesh\n",
    "    \n",
    "    u[0] = I                   # assign initial condition\n",
    "    for n in range(0,Nt):      # n=0,1,...,Nt-1\n",
    "        u[n+1] = (1-(1-theta)*a*dt)/(1+theta*dt*a)*u[n] #general formula for calculating u[n+1]\n",
    "    return u, t"
   ]
  },
  {
   "cell_type": "code",
   "execution_count": 74,
   "id": "16f4a89a",
   "metadata": {},
   "outputs": [],
   "source": [
    "u,t = solver(I=1,a=-1,T=8,dt=0.9,theta=1)"
   ]
  },
  {
   "cell_type": "code",
   "execution_count": 75,
   "id": "de93da53",
   "metadata": {},
   "outputs": [],
   "source": [
    "import matplotlib.pyplot as plt\n",
    "plt.plot(t,u)\n",
    "plt.show()"
   ]
  },
  {
   "cell_type": "markdown",
   "id": "f2231a51",
   "metadata": {},
   "source": [
    "1) \n",
    "Tester for I=1,a=-1,T=8. Tester for dt mellom 0.3 og 4.\n",
    "\n",
    "For theta=0 først, dvs Forward Euler. Ser at det uansett går oppover (men for dt=3 får man bare 3 punkter, som er litt lite for en god tilnærming).\n",
    "\n",
    "Tester så for theta=0.5, dvs Backward Euler. Der kan man ikke bruke dt=2, fordi dette gir 0 i utregningen av u[n+1] når man har a=-1. For verdier av dt under 2 går grafen oppover, men for verdier over 2, vil grafen oscillere/ikke kun gå oppover.\n",
    "\n",
    "Tester for theta=1, dvs Crank-Nicolson. Der er det ikke mulig med dt=1. For dt>1 oscillerer løsningen. For dt<1 går grafen oppover, men har litt få punkter for 0.9."
   ]
  },
  {
   "cell_type": "markdown",
   "id": "61ef014c",
   "metadata": {},
   "source": [
    "Fire verdier av \\Delta t som viser ulike spesialiteter for modellen: dt = 0.5, 1/2, 2.5, 3."
   ]
  },
  {
   "cell_type": "code",
   "execution_count": null,
   "id": "a662ca6f",
   "metadata": {},
   "outputs": [],
   "source": []
  }
 ],
 "metadata": {
  "kernelspec": {
   "display_name": "Python 3 (ipykernel)",
   "language": "python",
   "name": "python3"
  },
  "language_info": {
   "codemirror_mode": {
    "name": "ipython",
    "version": 3
   },
   "file_extension": ".py",
   "mimetype": "text/x-python",
   "name": "python",
   "nbconvert_exporter": "python",
   "pygments_lexer": "ipython3",
   "version": "3.10.4"
  }
 },
 "nbformat": 4,
 "nbformat_minor": 5
}
